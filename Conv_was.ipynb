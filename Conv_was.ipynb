{
 "cells": [
  {
   "cell_type": "code",
   "execution_count": 95,
   "id": "parental-barrier",
   "metadata": {},
   "outputs": [],
   "source": [
    "import torch\n",
    "import torchvision\n",
    "import torch.nn as nn\n",
    "import torchgeometry as tgm\n",
    "import matplotlib.pyplot as plt\n"
   ]
  },
  {
   "cell_type": "code",
   "execution_count": 96,
   "id": "answering-macro",
   "metadata": {},
   "outputs": [],
   "source": [
    "def show_image(inp):\n",
    "    inp = torchvision.transforms.ToPILImage()(inp)\n",
    "    plt.imshow(inp)\n",
    "    plt.show()"
   ]
  },
  {
   "cell_type": "code",
   "execution_count": 29,
   "id": "appreciated-destination",
   "metadata": {},
   "outputs": [],
   "source": [
    "def transform(inp):\n",
    "    inp = torchvision.transforms.ToTensor()(inp)\n",
    "    return torch.cat([inp, inp, inp], 0)"
   ]
  },
  {
   "cell_type": "code",
   "execution_count": null,
   "id": "identical-gates",
   "metadata": {},
   "outputs": [],
   "source": [
    "MNIST_DIR = \"/data/theory/robustopt/saachij/dataset_dumps/mnist\""
   ]
  },
  {
   "cell_type": "code",
   "execution_count": 30,
   "id": "absolute-preference",
   "metadata": {},
   "outputs": [],
   "source": [
    "ds = torchvision.datasets.MNIST(MNIST_DIR,\n",
    "                                train=True, download=False, transform=transform)\n",
    "dl = torch.utils.data.DataLoader(ds, batch_size=32)\n",
    "for x, y in dl:\n",
    "    break"
   ]
  },
  {
   "cell_type": "code",
   "execution_count": 80,
   "id": "touched-russell",
   "metadata": {},
   "outputs": [],
   "source": [
    "\n",
    "class ConvolutionalWasserstein2D(nn.Module):\n",
    "    def __init__(self, nin, s, gamma):\n",
    "        super().__init__()\n",
    "        self.a = torch.ones(1, nin, s, s)/(s*s)\n",
    "        self.s = s\n",
    "        self.nin = nin\n",
    "        self.gamma = gamma\n",
    "        \n",
    "        g_s = s\n",
    "        if s % 2 == 0:\n",
    "            g_s = s+1\n",
    "        self.H = tgm.image.GaussianBlur((g_s, g_s), (gamma, gamma))\n",
    "        \n",
    "        \n",
    "    def sinkhorn(self, mu_0, mu_1, iters):\n",
    "        w = torch.ones(*mu_0.shape)\n",
    "        v = torch.ones(*mu_0.shape)\n",
    "        for i in range(iters):\n",
    "            v = mu_0 /(self.H(self.a*w))\n",
    "            w = mu_1 /(self.H(self.a*v))\n",
    "        out = mu_0 * torch.log(v) + mu_1 * torch.log(w)\n",
    "        out = torch.flatten(out, 2, 3).unsqueeze(3)\n",
    "        a = torch.flatten(out, 2, 3).unsqueeze(2)\n",
    "        out = (a @ out).squeeze(2).squeeze(2)\n",
    "        return self.gamma * out\n",
    "    \n",
    "    def entropic_sharpening(self, x):\n",
    "        return x\n",
    "    \n",
    "    def wass_barycenter(self, mu_s, alphas, iters): # NOT BATCHED\n",
    "        # mu_s is K x C x H x W\n",
    "        # alphas is K\n",
    "        # M is the number of mu_s\n",
    "        K, C, H, W = mu_s.shape\n",
    "        \n",
    "        v = torch.ones_like(mu_s)\n",
    "        w = torch.ones_like(mu_s)\n",
    "        for j in range(iters):\n",
    "            w = mu_s / self.H(self.a * v)\n",
    "            d = v * self.H(self.a * w)\n",
    "            mu = torch.ones(C, H, W)\n",
    "            for i in range(K):\n",
    "                mu = mu * torch.pow(d[i], alphas[i])\n",
    "            mu = self.entropic_sharpening(mu)\n",
    "            v = (v * mu.unsqueeze(0))/d\n",
    "        return mu\n",
    "    "
   ]
  },
  {
   "cell_type": "code",
   "execution_count": 93,
   "id": "identical-prisoner",
   "metadata": {},
   "outputs": [
    {
     "name": "stdout",
     "output_type": "stream",
     "text": [
      "torch.Size([3, 28, 28])\n"
     ]
    }
   ],
   "source": [
    "# example conv_was\n",
    "cw = ConvolutionalWasserstein2D(3, 28, 1)\n",
    "with torch.no_grad():\n",
    "    inp = x[[0,1]]\n",
    "    alphas = torch.tensor([0.5, 0.5])\n",
    "    out = cw.wass_barycenter(inp, alphas, 10)\n",
    "print(out.shape)"
   ]
  },
  {
   "cell_type": "code",
   "execution_count": 94,
   "id": "attached-proof",
   "metadata": {},
   "outputs": [
    {
     "data": {
      "image/png": "[encoded data removed]",
      "text/plain": [
       "<Figure size 432x288 with 1 Axes>"
      ]
     },
     "metadata": {
      "needs_background": "light"
     },
     "output_type": "display_data"
    },
    {
     "data": {
      "image/png": "[encoded data removed]",
      "text/plain": [
       "<Figure size 432x288 with 1 Axes>"
      ]
     },
     "metadata": {
      "needs_background": "light"
     },
     "output_type": "display_data"
    },
    {
     "data": {
      "image/png": "[encoded data removed]",
      "text/plain": [
       "<Figure size 432x288 with 1 Axes>"
      ]
     },
     "metadata": {
      "needs_background": "light"
     },
     "output_type": "display_data"
    }
   ],
   "source": [
    "show_image(x[0])\n",
    "show_image(x[1])\n",
    "show_image(out)"
   ]
  }
 ],
 "metadata": {
  "kernelspec": {
   "display_name": "Python 3",
   "language": "python",
   "name": "python3"
  },
  "language_info": {
   "codemirror_mode": {
    "name": "ipython",
    "version": 3
   },
   "file_extension": ".py",
   "mimetype": "text/x-python",
   "name": "python",
   "nbconvert_exporter": "python",
   "pygments_lexer": "ipython3",
   "version": "3.9.2"
  }
 },
 "nbformat": 4,
 "nbformat_minor": 5
}
