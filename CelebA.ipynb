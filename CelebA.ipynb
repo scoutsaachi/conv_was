{
 "cells": [
  {
   "cell_type": "code",
   "execution_count": 38,
   "metadata": {},
   "outputs": [],
   "source": [
    "import torch\n",
    "import torchvision\n",
    "import torch.nn as nn\n",
    "import torchgeometry as tgm\n",
    "import matplotlib.pyplot as plt\n",
    "from scipy.optimize import fsolve\n",
    "import torch.nn.functional as F\n",
    "import numpy as np\n",
    "from ConvWass2D import ConvolutionalWasserstein2D\n",
    "import torchvision\n",
    "from torchvision import transforms\n",
    "from utils import d, make_K_slow, make_K, multiply_reshape"
   ]
  },
  {
   "cell_type": "code",
   "execution_count": 39,
   "metadata": {},
   "outputs": [],
   "source": [
    "def show_image(inp, ax=None):\n",
    "    inp = inp / torch.max(inp.view(3, -1), dim=-1).values.view(3, 1, 1)\n",
    "    inp = torchvision.transforms.ToPILImage()(inp)\n",
    "    if ax is None:\n",
    "        plt.imshow(inp) #[0,...])\n",
    "        plt.show()\n",
    "    else:\n",
    "        ax.imshow(inp)\n"
   ]
  },
  {
   "cell_type": "code",
   "execution_count": 40,
   "metadata": {},
   "outputs": [],
   "source": [
    "def transform(inp):\n",
    "    main_transform = transforms.Compose(\n",
    "        [\n",
    "            transforms.Resize((64, 64)),\n",
    "            transforms.ToTensor()],\n",
    "    )\n",
    "    inp = main_transform(inp)\n",
    "    inp = inp + 1e-4\n",
    "    inp = inp / torch.sum(torch.abs(inp))\n",
    "    return inp"
   ]
  },
  {
   "cell_type": "code",
   "execution_count": 41,
   "metadata": {},
   "outputs": [
    {
     "data": {
      "image/png": "[encoded data removed]",
      "text/plain": [
       "<Figure size 432x288 with 1 Axes>"
      ]
     },
     "metadata": {
      "needs_background": "light"
     },
     "output_type": "display_data"
    }
   ],
   "source": [
    "ds = torchvision.datasets.CelebA(\"/mnt/home/hlawrence/ceph/datasets/celeba\", split='train', transform=transform, target_type=\"landmarks\")\n",
    "dl = torch.utils.data.DataLoader(ds, batch_size=32, shuffle=True)\n",
    "for x, y in dl:\n",
    "    break\n",
    "show_image(x[0])"
   ]
  },
  {
   "cell_type": "code",
   "execution_count": 70,
   "metadata": {},
   "outputs": [],
   "source": [
    "landmark = y[0]\n",
    "landmarks_labels = [\"left eye\", \"right eye\", \"nose\", \"left mouth\", \"right mouth\"]\n",
    "numim = 2\n",
    "numdim = 2\n",
    "keypoints = torch.zeros(len(landmarks_labels), numim, numdim)\n",
    "H = 218\n",
    "W = 178\n",
    "out_size = 64\n",
    "landmark_mask = torch.zeros(len(landmarks_labels), out_size, out_size)\n",
    "for i, idx in enumerate(np.arange(0, len(landmarks_labels)*2, 2)):\n",
    "    x_coord, y_coord = landmark[idx+1], landmark[idx]\n",
    "    \n",
    "    x_coord = torch.round(x_coord/H*out_size).int().item()\n",
    "    y_coord = torch.round(y_coord/W*out_size).int().item()\n",
    "    keypoints[i, 0, :] = torch.tensor([x_coord, y_coord])\n",
    "    landmark_mask[i, x_coord, y_coord] = 1\n",
    "keypoints = keypoints.long()"
   ]
  },
  {
   "cell_type": "code",
   "execution_count": 72,
   "metadata": {},
   "outputs": [],
   "source": [
    "def get_img_landmarks(y, H=218, W=178, out_size=64):\n",
    "    numim = y.shape[0]\n",
    "    numdim = 2\n",
    "    keypoints = torch.zeros(len(landmarks_labels), numim, numdim)\n",
    "    lminds = np.arange(0, len(landmarks_labels)*2, 2)\n",
    "    for i, idx in enumerate(lminds):\n",
    "        keypoints[i, :, 0] = torch.round(y[:, idx+1]/H*out_size) #.int() #.item() # y[:, idx+1]\n",
    "        keypoints[i, :, 1] = torch.round(y[:, idx]/H*out_size) #.int() #y[:, idx]\n",
    "    return keypoints.long()\n",
    "    "
   ]
  },
  {
   "cell_type": "code",
   "execution_count": 56,
   "metadata": {},
   "outputs": [
    {
     "data": {
      "text/plain": [
       "torch.Size([32, 3, 64, 64])"
      ]
     },
     "execution_count": 56,
     "metadata": {},
     "output_type": "execute_result"
    }
   ],
   "source": [
    "x.shape"
   ]
  },
  {
   "cell_type": "code",
   "execution_count": 62,
   "metadata": {},
   "outputs": [],
   "source": [
    "keypoints = get_img_landmarks(y)"
   ]
  },
  {
   "cell_type": "code",
   "execution_count": 51,
   "metadata": {},
   "outputs": [
    {
     "data": {
      "text/plain": [
       "torch.int64"
      ]
     },
     "execution_count": 51,
     "metadata": {},
     "output_type": "execute_result"
    }
   ],
   "source": [
    "keypoints.long().dtype"
   ]
  },
  {
   "cell_type": "code",
   "execution_count": 63,
   "metadata": {},
   "outputs": [
    {
     "data": {
      "text/plain": [
       "tensor([[33, 20],\n",
       "        [33, 21],\n",
       "        [32, 20],\n",
       "        [33, 20],\n",
       "        [32, 20],\n",
       "        [33, 20],\n",
       "        [33, 21],\n",
       "        [33, 23],\n",
       "        [33, 20],\n",
       "        [33, 20],\n",
       "        [33, 20],\n",
       "        [32, 21],\n",
       "        [33, 20],\n",
       "        [33, 21],\n",
       "        [33, 20],\n",
       "        [33, 20],\n",
       "        [33, 20],\n",
       "        [33, 20],\n",
       "        [32, 22],\n",
       "        [32, 21],\n",
       "        [33, 21],\n",
       "        [33, 20],\n",
       "        [33, 20],\n",
       "        [32, 21],\n",
       "        [32, 21],\n",
       "        [32, 21],\n",
       "        [33, 20],\n",
       "        [33, 20],\n",
       "        [33, 20],\n",
       "        [33, 20],\n",
       "        [33, 21],\n",
       "        [32, 21]])"
      ]
     },
     "execution_count": 63,
     "metadata": {},
     "output_type": "execute_result"
    }
   ],
   "source": [
    "keypoints[0,:,:]"
   ]
  },
  {
   "cell_type": "code",
   "execution_count": 73,
   "metadata": {},
   "outputs": [
    {
     "data": {
      "image/png": "[encoded data removed]",
      "text/plain": [
       "<Figure size 1440x288 with 5 Axes>"
      ]
     },
     "metadata": {
      "needs_background": "light"
     },
     "output_type": "display_data"
    }
   ],
   "source": [
    "img = x[0]\n",
    "fig, ax = plt.subplots(1, 5, figsize=(20, 4))\n",
    "base_color = torch.max(img.view(3, -1), dim=-1)[0][0]\n",
    "for i in range(5):\n",
    "    img = x[0].clone()\n",
    "    img[:, keypoints[i, 0, 0], keypoints[i, 0, 1]] = base_color\n",
    "    #img[:, landmark_mask[i] > 0] = base_color\n",
    "    show_image(img, ax[i])\n",
    "    ax[i].set_title(landmarks_labels[i])\n",
    "plt.show()"
   ]
  },
  {
   "cell_type": "code",
   "execution_count": null,
   "metadata": {},
   "outputs": [],
   "source": []
  },
  {
   "cell_type": "code",
   "execution_count": null,
   "metadata": {},
   "outputs": [],
   "source": [
    "for b in range(32):\n",
    "    print(b)\n",
    "    show_image(x[b])"
   ]
  },
  {
   "cell_type": "code",
   "execution_count": null,
   "metadata": {},
   "outputs": [],
   "source": [
    "# example conv_was\n",
    "for start_idx, target_idx in [(6,4), (21, 24)]:\n",
    "    cw = ConvolutionalWasserstein2D(3, 64, gamma=1)\n",
    "    pos_alphas = torch.arange(0.25, 1, 0.15)\n",
    "    fig, ax = plt.subplots(1, len(pos_alphas)+2, figsize=((len(pos_alphas)+2)*3, 3))\n",
    "    inp = x[[start_idx, target_idx]]\n",
    "    show_image(inp[1,...], ax[0])\n",
    "    ax[0].set_title(f\"Start\")\n",
    "    show_image(inp[0, ...], ax[-1])\n",
    "    ax[-1].set_title(f\"End\")\n",
    "\n",
    "    with torch.no_grad():\n",
    "        for i, alpha in enumerate(pos_alphas):\n",
    "            alphas = torch.tensor([alpha, 1-alpha])\n",
    "            fac = 0.3\n",
    "            out = cw.wass_barycenter(inp, alphas, 10, entropic_args={'factor':fac})\n",
    "            show_image(out, ax[i+1])\n",
    "            ax[i+1].set_title(f\"Alpha {alpha:.2}\")\n",
    "    plt.show()"
   ]
  },
  {
   "cell_type": "code",
   "execution_count": null,
   "metadata": {},
   "outputs": [],
   "source": [
    "f\"{0.50332490:.4}\""
   ]
  },
  {
   "cell_type": "code",
   "execution_count": null,
   "metadata": {},
   "outputs": [],
   "source": [
    "cw = ConvolutionalWasserstein2D(3, 64, gamma=1)"
   ]
  },
  {
   "cell_type": "code",
   "execution_count": null,
   "metadata": {},
   "outputs": [],
   "source": [
    "w, v = cw.sinkhorn(x[[0]], x[[1]], 10, return_wv=True)"
   ]
  },
  {
   "cell_type": "code",
   "execution_count": null,
   "metadata": {},
   "outputs": [],
   "source": [
    "v.shape"
   ]
  },
  {
   "cell_type": "code",
   "execution_count": null,
   "metadata": {
    "scrolled": true
   },
   "outputs": [],
   "source": [
    "plan = v*cw.H(w)"
   ]
  },
  {
   "cell_type": "code",
   "execution_count": null,
   "metadata": {},
   "outputs": [],
   "source": [
    "v.shape"
   ]
  },
  {
   "cell_type": "code",
   "execution_count": null,
   "metadata": {},
   "outputs": [],
   "source": [
    "plan"
   ]
  },
  {
   "cell_type": "code",
   "execution_count": null,
   "metadata": {},
   "outputs": [],
   "source": []
  }
 ],
 "metadata": {
  "kernelspec": {
   "display_name": "cryo",
   "language": "python",
   "name": "cryo"
  },
  "language_info": {
   "codemirror_mode": {
    "name": "ipython",
    "version": 3
   },
   "file_extension": ".py",
   "mimetype": "text/x-python",
   "name": "python",
   "nbconvert_exporter": "python",
   "pygments_lexer": "ipython3",
   "version": "3.7.7"
  }
 },
 "nbformat": 4,
 "nbformat_minor": 5
}
