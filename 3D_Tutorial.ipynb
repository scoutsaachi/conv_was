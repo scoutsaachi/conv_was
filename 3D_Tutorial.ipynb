{
 "cells": [
  {
   "cell_type": "code",
   "execution_count": null,
   "id": "molecular-china",
   "metadata": {},
   "outputs": [],
   "source": [
    "# get meshes from https://github.com/gpeyre/2015-SIGGRAPH-convolutional-ot\n",
    "# install libigl: https://libigl.github.io/libigl-python-bindings/\n",
    "# install meshplot: https://anaconda.org/conda-forge/meshplot (https://skoch9.github.io/meshplot/tutorial/)"
   ]
  },
  {
   "cell_type": "code",
   "execution_count": null,
   "id": "super-chuck",
   "metadata": {},
   "outputs": [],
   "source": [
    "import utils_3d\n",
    "import meshplot as mp\n",
    "import matplotlib.pyplot as plt\n",
    "\n"
   ]
  },
  {
   "cell_type": "code",
   "execution_count": null,
   "id": "elegant-atlantic",
   "metadata": {},
   "outputs": [],
   "source": [
    "# path = \"/mnt/nfs/home/saachij/src/2015-SIGGRAPH-convolutional-ot/data/meshes/meshr05_1024.off\" \n",
    "path = \"/mnt/nfs/home/saachij/src/2015-SIGGRAPH-convolutional-ot/data/meshes/meshr00_1024.off\" \n"
   ]
  },
  {
   "cell_type": "code",
   "execution_count": null,
   "id": "divided-above",
   "metadata": {},
   "outputs": [],
   "source": [
    "v, f, triangles = utils_3d.read_offset_and_normalize(path)"
   ]
  },
  {
   "cell_type": "code",
   "execution_count": null,
   "id": "placed-contrary",
   "metadata": {},
   "outputs": [],
   "source": [
    "sources = [ 984, # face\n",
    "            736, # left bicep\n",
    "            233, # right knee\n",
    "            511, # midsection\n",
    "            329, # left thigh\n",
    "            92, # left ankle\n",
    "            653, # right forearm\n",
    "            ]\n"
   ]
  },
  {
   "cell_type": "code",
   "execution_count": null,
   "id": "domestic-bottom",
   "metadata": {},
   "outputs": [],
   "source": []
  },
  {
   "cell_type": "code",
   "execution_count": null,
   "id": "enabling-ecology",
   "metadata": {},
   "outputs": [],
   "source": [
    "viewer = mp.plot(v.cpu().numpy(),f.cpu().numpy())\n",
    "viewer.add_points(v[sources].cpu().numpy(),  shading={\"point_size\": 0.1})"
   ]
  },
  {
   "cell_type": "code",
   "execution_count": null,
   "id": "alert-sheriff",
   "metadata": {},
   "outputs": [],
   "source": [
    "cpu_voxels, sparse_voxels = utils_3d.get_voxelization(triangles, 0.01)"
   ]
  },
  {
   "cell_type": "code",
   "execution_count": null,
   "id": "promising-career",
   "metadata": {},
   "outputs": [],
   "source": [
    "viewer = mp.plot(cpu_voxels,  shading={\"point_size\": 0.03})\n",
    "viewer.add_points(v[sources].cpu().numpy(),  shading={\"point_size\": 0.1})"
   ]
  },
  {
   "cell_type": "code",
   "execution_count": null,
   "id": "voluntary-jacob",
   "metadata": {},
   "outputs": [],
   "source": []
  }
 ],
 "metadata": {
  "kernelspec": {
   "display_name": "Python 3",
   "language": "python",
   "name": "python3"
  },
  "language_info": {
   "codemirror_mode": {
    "name": "ipython",
    "version": 3
   },
   "file_extension": ".py",
   "mimetype": "text/x-python",
   "name": "python",
   "nbconvert_exporter": "python",
   "pygments_lexer": "ipython3",
   "version": "3.9.2"
  }
 },
 "nbformat": 4,
 "nbformat_minor": 5
}
