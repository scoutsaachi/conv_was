{
 "cells": [
  {
   "cell_type": "code",
   "execution_count": 1,
   "id": "molecular-china",
   "metadata": {},
   "outputs": [],
   "source": [
    "# get meshes from https://github.com/gpeyre/2015-SIGGRAPH-convolutional-ot\n",
    "# install libigl: https://libigl.github.io/libigl-python-bindings/\n",
    "# install meshplot: https://anaconda.org/conda-forge/meshplot (https://skoch9.github.io/meshplot/tutorial/)\n",
    "# get meshes from https://github.com/libigl/libigl-tutorial-data"
   ]
  },
  {
   "cell_type": "code",
   "execution_count": 2,
   "id": "super-chuck",
   "metadata": {},
   "outputs": [],
   "source": [
    "import utils_3d\n",
    "from utils_3d import *\n",
    "import meshplot as mp\n",
    "import matplotlib.pyplot as plt\n",
    "\n",
    "import torchgeometry as tgm\n",
    "import torch\n",
    "import torch.nn as nn\n",
    "import igl\n",
    "import numpy as np"
   ]
  },
  {
   "cell_type": "code",
   "execution_count": 3,
   "id": "handmade-surfing",
   "metadata": {},
   "outputs": [],
   "source": [
    "def draw_box(p):\n",
    "    v_box = np.array([[0, 0, 0], [0, 0, 1], [0, 1, 0], [0, 1, 1],\n",
    "                  [1, 0, 0], [1, 0, 1], [1, 1, 0], [1, 1, 1]])\n",
    "    edges = np.array([\n",
    "        [0, 1], [0, 2], [1,3], [3, 2], [0, 4], [4, 5], [5, 1], [4, 6], [6, 7], [7, 5], [7, 3], [6, 2]\n",
    "    ])\n",
    "    p.add_points(v_box, shading={\"point_color\": \"green\", \"point_size\": 0.1})\n",
    "    p.add_edges(v_box, edges, shading={\"line_color\": \"green\"})\n",
    "\n",
    "def visualize(cube, p=None, color='red', point_size=0.03):\n",
    "    voxels = torch.stack(torch.where(cube[0])).T.numpy()\n",
    "    if p is None:\n",
    "        p = mp.plot(voxels/SIZE, c=color, shading={\"point_size\": point_size})\n",
    "    else:\n",
    "        p.add_points(voxels/SIZE, c=color, shading={\"point_size\": point_size})\n",
    "    return p"
   ]
  },
  {
   "cell_type": "code",
   "execution_count": 5,
   "id": "legal-spring",
   "metadata": {},
   "outputs": [],
   "source": [
    "def get_mesh(name, res, obj_type):\n",
    "    path = f\"/mnt/nfs/home/saachij/data/libigl-tutorial-data/{name}\" \n",
    "    v, f, triangles = utils_3d.read_offset_and_normalize_custom(path, obj_type)\n",
    "    cpu_voxels, sparse_voxels = utils_3d.get_voxelization(triangles, res)\n",
    "    sparse_voxels = sparse_voxels.to_dense().unsqueeze(0)\n",
    "    return v, f, cpu_voxels, sparse_voxels\n"
   ]
  },
  {
   "cell_type": "code",
   "execution_count": 6,
   "id": "elegant-atlantic",
   "metadata": {},
   "outputs": [
    {
     "ename": "RuntimeError",
     "evalue": "CUDA out of memory. Tried to allocate 11.60 GiB (GPU 0; 31.75 GiB total capacity; 18.05 GiB already allocated; 11.04 GiB free; 19.36 GiB reserved in total by PyTorch)",
     "output_type": "error",
     "traceback": [
      "\u001b[0;31m---------------------------------------------------------------------------\u001b[0m",
      "\u001b[0;31mRuntimeError\u001b[0m                              Traceback (most recent call last)",
      "\u001b[0;32m<ipython-input-6-cf089f3d29aa>\u001b[0m in \u001b[0;36m<module>\u001b[0;34m\u001b[0m\n\u001b[1;32m      1\u001b[0m \u001b[0mRES\u001b[0m \u001b[0;34m=\u001b[0m \u001b[0;36m0.05\u001b[0m\u001b[0;34m\u001b[0m\u001b[0;34m\u001b[0m\u001b[0m\n\u001b[1;32m      2\u001b[0m \u001b[0;34m\u001b[0m\u001b[0m\n\u001b[0;32m----> 3\u001b[0;31m \u001b[0mv_1\u001b[0m\u001b[0;34m,\u001b[0m \u001b[0mf_1\u001b[0m\u001b[0;34m,\u001b[0m \u001b[0mcpu_voxels_1\u001b[0m\u001b[0;34m,\u001b[0m \u001b[0msparse_voxels_1\u001b[0m \u001b[0;34m=\u001b[0m \u001b[0mget_mesh\u001b[0m\u001b[0;34m(\u001b[0m\u001b[0;34m'armadillo.obj'\u001b[0m\u001b[0;34m,\u001b[0m \u001b[0mRES\u001b[0m\u001b[0;34m,\u001b[0m \u001b[0;34m'obj'\u001b[0m\u001b[0;34m)\u001b[0m\u001b[0;34m\u001b[0m\u001b[0;34m\u001b[0m\u001b[0m\n\u001b[0m\u001b[1;32m      4\u001b[0m \u001b[0mv_2\u001b[0m\u001b[0;34m,\u001b[0m \u001b[0mf_2\u001b[0m\u001b[0;34m,\u001b[0m \u001b[0mcpu_voxels_2\u001b[0m\u001b[0;34m,\u001b[0m \u001b[0msparse_voxels_2\u001b[0m \u001b[0;34m=\u001b[0m \u001b[0mget_mesh\u001b[0m\u001b[0;34m(\u001b[0m\u001b[0;34m'elephant.obj'\u001b[0m\u001b[0;34m,\u001b[0m \u001b[0mRES\u001b[0m\u001b[0;34m,\u001b[0m \u001b[0;34m\"obj\"\u001b[0m\u001b[0;34m)\u001b[0m\u001b[0;34m\u001b[0m\u001b[0;34m\u001b[0m\u001b[0m\n\u001b[1;32m      5\u001b[0m \u001b[0mSIZE\u001b[0m \u001b[0;34m=\u001b[0m \u001b[0msparse_voxels_1\u001b[0m\u001b[0;34m.\u001b[0m\u001b[0mshape\u001b[0m\u001b[0;34m[\u001b[0m\u001b[0;34m-\u001b[0m\u001b[0;36m1\u001b[0m\u001b[0;34m]\u001b[0m\u001b[0;34m\u001b[0m\u001b[0;34m\u001b[0m\u001b[0m\n",
      "\u001b[0;32m<ipython-input-5-42c81b012941>\u001b[0m in \u001b[0;36mget_mesh\u001b[0;34m(name, res, obj_type)\u001b[0m\n\u001b[1;32m      2\u001b[0m     \u001b[0mpath\u001b[0m \u001b[0;34m=\u001b[0m \u001b[0;34mf\"/mnt/nfs/home/saachij/data/libigl-tutorial-data/{name}\"\u001b[0m\u001b[0;34m\u001b[0m\u001b[0;34m\u001b[0m\u001b[0m\n\u001b[1;32m      3\u001b[0m     \u001b[0mv\u001b[0m\u001b[0;34m,\u001b[0m \u001b[0mf\u001b[0m\u001b[0;34m,\u001b[0m \u001b[0mtriangles\u001b[0m \u001b[0;34m=\u001b[0m \u001b[0mutils_3d\u001b[0m\u001b[0;34m.\u001b[0m\u001b[0mread_offset_and_normalize_custom\u001b[0m\u001b[0;34m(\u001b[0m\u001b[0mpath\u001b[0m\u001b[0;34m,\u001b[0m \u001b[0mobj_type\u001b[0m\u001b[0;34m)\u001b[0m\u001b[0;34m\u001b[0m\u001b[0;34m\u001b[0m\u001b[0m\n\u001b[0;32m----> 4\u001b[0;31m     \u001b[0mcpu_voxels\u001b[0m\u001b[0;34m,\u001b[0m \u001b[0msparse_voxels\u001b[0m \u001b[0;34m=\u001b[0m \u001b[0mutils_3d\u001b[0m\u001b[0;34m.\u001b[0m\u001b[0mget_voxelization\u001b[0m\u001b[0;34m(\u001b[0m\u001b[0mtriangles\u001b[0m\u001b[0;34m,\u001b[0m \u001b[0mres\u001b[0m\u001b[0;34m)\u001b[0m\u001b[0;34m\u001b[0m\u001b[0;34m\u001b[0m\u001b[0m\n\u001b[0m\u001b[1;32m      5\u001b[0m     \u001b[0msparse_voxels\u001b[0m \u001b[0;34m=\u001b[0m \u001b[0msparse_voxels\u001b[0m\u001b[0;34m.\u001b[0m\u001b[0mto_dense\u001b[0m\u001b[0;34m(\u001b[0m\u001b[0;34m)\u001b[0m\u001b[0;34m.\u001b[0m\u001b[0munsqueeze\u001b[0m\u001b[0;34m(\u001b[0m\u001b[0;36m0\u001b[0m\u001b[0;34m)\u001b[0m\u001b[0;34m\u001b[0m\u001b[0;34m\u001b[0m\u001b[0m\n\u001b[1;32m      6\u001b[0m     \u001b[0;32mreturn\u001b[0m \u001b[0mv\u001b[0m\u001b[0;34m,\u001b[0m \u001b[0mf\u001b[0m\u001b[0;34m,\u001b[0m \u001b[0mcpu_voxels\u001b[0m\u001b[0;34m,\u001b[0m \u001b[0msparse_voxels\u001b[0m\u001b[0;34m\u001b[0m\u001b[0;34m\u001b[0m\u001b[0m\n",
      "\u001b[0;32m~/src/conv_wass/utils_3d.py\u001b[0m in \u001b[0;36mget_voxelization\u001b[0;34m(triangles, res)\u001b[0m\n\u001b[1;32m    304\u001b[0m         \u001b[0;32mfor\u001b[0m \u001b[0mvoxels_batch\u001b[0m\u001b[0;34m,\u001b[0m \u001b[0;32min\u001b[0m \u001b[0mdl\u001b[0m\u001b[0;34m:\u001b[0m\u001b[0;34m\u001b[0m\u001b[0;34m\u001b[0m\u001b[0m\n\u001b[1;32m    305\u001b[0m             \u001b[0mvoxels_batch\u001b[0m \u001b[0;34m=\u001b[0m \u001b[0mvoxels_batch\u001b[0m\u001b[0;34m.\u001b[0m\u001b[0mcuda\u001b[0m\u001b[0;34m(\u001b[0m\u001b[0;34m)\u001b[0m\u001b[0;34m\u001b[0m\u001b[0;34m\u001b[0m\u001b[0m\n\u001b[0;32m--> 306\u001b[0;31m             \u001b[0mall_out\u001b[0m\u001b[0;34m.\u001b[0m\u001b[0mappend\u001b[0m\u001b[0;34m(\u001b[0m\u001b[0mget_is_in_mesh_batched\u001b[0m\u001b[0;34m(\u001b[0m\u001b[0mtriangles\u001b[0m\u001b[0;34m,\u001b[0m \u001b[0mvoxels_batch\u001b[0m\u001b[0;34m)\u001b[0m\u001b[0;34m.\u001b[0m\u001b[0mcpu\u001b[0m\u001b[0;34m(\u001b[0m\u001b[0;34m)\u001b[0m\u001b[0;34m)\u001b[0m\u001b[0;34m\u001b[0m\u001b[0;34m\u001b[0m\u001b[0m\n\u001b[0m\u001b[1;32m    307\u001b[0m     \u001b[0mall_out\u001b[0m \u001b[0;34m=\u001b[0m \u001b[0mtorch\u001b[0m\u001b[0;34m.\u001b[0m\u001b[0mcat\u001b[0m\u001b[0;34m(\u001b[0m\u001b[0mall_out\u001b[0m\u001b[0;34m)\u001b[0m\u001b[0;34m\u001b[0m\u001b[0;34m\u001b[0m\u001b[0m\n\u001b[1;32m    308\u001b[0m     \u001b[0mcpu_voxels\u001b[0m \u001b[0;34m=\u001b[0m \u001b[0mvoxels\u001b[0m\u001b[0;34m[\u001b[0m\u001b[0mall_out\u001b[0m\u001b[0;34m.\u001b[0m\u001b[0mcpu\u001b[0m\u001b[0;34m(\u001b[0m\u001b[0;34m)\u001b[0m\u001b[0;34m.\u001b[0m\u001b[0mnumpy\u001b[0m\u001b[0;34m(\u001b[0m\u001b[0;34m)\u001b[0m\u001b[0;34m]\u001b[0m\u001b[0;34m.\u001b[0m\u001b[0mcpu\u001b[0m\u001b[0;34m(\u001b[0m\u001b[0;34m)\u001b[0m\u001b[0;34m.\u001b[0m\u001b[0mnumpy\u001b[0m\u001b[0;34m(\u001b[0m\u001b[0;34m)\u001b[0m\u001b[0;34m\u001b[0m\u001b[0;34m\u001b[0m\u001b[0m\n",
      "\u001b[0;32m~/src/conv_wass/utils_3d.py\u001b[0m in \u001b[0;36mget_is_in_mesh_batched\u001b[0;34m(triangles, query_points)\u001b[0m\n\u001b[1;32m    287\u001b[0m     \u001b[0mM\u001b[0m \u001b[0;34m=\u001b[0m \u001b[0;34m(\u001b[0m\u001b[0mtriangles\u001b[0m\u001b[0;34m.\u001b[0m\u001b[0munsqueeze\u001b[0m\u001b[0;34m(\u001b[0m\u001b[0;36m0\u001b[0m\u001b[0;34m)\u001b[0m \u001b[0;34m-\u001b[0m \u001b[0mquery_points\u001b[0m\u001b[0;34m.\u001b[0m\u001b[0munsqueeze\u001b[0m\u001b[0;34m(\u001b[0m\u001b[0;36m1\u001b[0m\u001b[0;34m)\u001b[0m\u001b[0;34m.\u001b[0m\u001b[0munsqueeze\u001b[0m\u001b[0;34m(\u001b[0m\u001b[0;36m1\u001b[0m\u001b[0;34m)\u001b[0m\u001b[0;34m)\u001b[0m\u001b[0;34m\u001b[0m\u001b[0;34m\u001b[0m\u001b[0m\n\u001b[1;32m    288\u001b[0m     \u001b[0mM_norm\u001b[0m \u001b[0;34m=\u001b[0m \u001b[0mtorch\u001b[0m\u001b[0;34m.\u001b[0m\u001b[0mlinalg\u001b[0m\u001b[0;34m.\u001b[0m\u001b[0mnorm\u001b[0m\u001b[0;34m(\u001b[0m\u001b[0mM\u001b[0m\u001b[0;34m,\u001b[0m \u001b[0mdim\u001b[0m\u001b[0;34m=\u001b[0m\u001b[0;34m-\u001b[0m\u001b[0;36m1\u001b[0m\u001b[0;34m)\u001b[0m\u001b[0;34m\u001b[0m\u001b[0;34m\u001b[0m\u001b[0m\n\u001b[0;32m--> 289\u001b[0;31m     \u001b[0mD\u001b[0m \u001b[0;34m=\u001b[0m \u001b[0mtorch\u001b[0m\u001b[0;34m.\u001b[0m\u001b[0mlinalg\u001b[0m\u001b[0;34m.\u001b[0m\u001b[0mdet\u001b[0m\u001b[0;34m(\u001b[0m\u001b[0mM\u001b[0m\u001b[0;34m)\u001b[0m\u001b[0;34m\u001b[0m\u001b[0;34m\u001b[0m\u001b[0m\n\u001b[0m\u001b[1;32m    290\u001b[0m     \u001b[0mA\u001b[0m\u001b[0;34m,\u001b[0m \u001b[0mB\u001b[0m\u001b[0;34m,\u001b[0m \u001b[0mC\u001b[0m \u001b[0;34m=\u001b[0m \u001b[0mM\u001b[0m\u001b[0;34m[\u001b[0m\u001b[0;34m:\u001b[0m\u001b[0;34m,\u001b[0m \u001b[0;34m:\u001b[0m\u001b[0;34m,\u001b[0m \u001b[0;36m0\u001b[0m\u001b[0;34m]\u001b[0m\u001b[0;34m,\u001b[0m \u001b[0mM\u001b[0m\u001b[0;34m[\u001b[0m\u001b[0;34m:\u001b[0m\u001b[0;34m,\u001b[0m \u001b[0;34m:\u001b[0m\u001b[0;34m,\u001b[0m \u001b[0;36m1\u001b[0m\u001b[0;34m]\u001b[0m\u001b[0;34m,\u001b[0m \u001b[0mM\u001b[0m\u001b[0;34m[\u001b[0m\u001b[0;34m:\u001b[0m\u001b[0;34m,\u001b[0m \u001b[0;34m:\u001b[0m\u001b[0;34m,\u001b[0m \u001b[0;36m2\u001b[0m\u001b[0;34m]\u001b[0m\u001b[0;34m\u001b[0m\u001b[0;34m\u001b[0m\u001b[0m\n\u001b[1;32m    291\u001b[0m     \u001b[0mA_norm\u001b[0m\u001b[0;34m,\u001b[0m \u001b[0mB_norm\u001b[0m\u001b[0;34m,\u001b[0m \u001b[0mC_norm\u001b[0m \u001b[0;34m=\u001b[0m \u001b[0mM_norm\u001b[0m\u001b[0;34m[\u001b[0m\u001b[0;34m:\u001b[0m\u001b[0;34m,\u001b[0m \u001b[0;34m:\u001b[0m\u001b[0;34m,\u001b[0m \u001b[0;36m0\u001b[0m\u001b[0;34m]\u001b[0m\u001b[0;34m,\u001b[0m \u001b[0mM_norm\u001b[0m\u001b[0;34m[\u001b[0m\u001b[0;34m:\u001b[0m\u001b[0;34m,\u001b[0m \u001b[0;34m:\u001b[0m\u001b[0;34m,\u001b[0m \u001b[0;36m1\u001b[0m\u001b[0;34m]\u001b[0m\u001b[0;34m,\u001b[0m \u001b[0mM_norm\u001b[0m\u001b[0;34m[\u001b[0m\u001b[0;34m:\u001b[0m\u001b[0;34m,\u001b[0m\u001b[0;34m:\u001b[0m\u001b[0;34m,\u001b[0m \u001b[0;36m2\u001b[0m\u001b[0;34m]\u001b[0m\u001b[0;34m\u001b[0m\u001b[0;34m\u001b[0m\u001b[0m\n",
      "\u001b[0;31mRuntimeError\u001b[0m: CUDA out of memory. Tried to allocate 11.60 GiB (GPU 0; 31.75 GiB total capacity; 18.05 GiB already allocated; 11.04 GiB free; 19.36 GiB reserved in total by PyTorch)"
     ]
    }
   ],
   "source": [
    "RES = 0.05\n",
    "\n",
    "v_1, f_1, cpu_voxels_1, sparse_voxels_1 = get_mesh('armadillo.obj', RES, 'obj') \n",
    "v_2, f_2, cpu_voxels_2, sparse_voxels_2 = get_mesh('elephant.obj', RES, \"obj\")\n",
    "SIZE = sparse_voxels_1.shape[-1]"
   ]
  },
  {
   "cell_type": "code",
   "execution_count": null,
   "id": "essential-jesus",
   "metadata": {},
   "outputs": [],
   "source": [
    "p = mp.plot(v_1.cpu().numpy(), f_1.cpu().numpy())\n",
    "draw_box(p)"
   ]
  },
  {
   "cell_type": "code",
   "execution_count": 7,
   "id": "concrete-consumer",
   "metadata": {},
   "outputs": [
    {
     "data": {
      "application/vnd.jupyter.widget-view+json": {
       "model_id": "b9ba0b037fe44b9a9a41fe8eb88f8211",
       "version_major": 2,
       "version_minor": 0
      },
      "text/plain": [
       "Renderer(camera=PerspectiveCamera(children=(DirectionalLight(color='white', intensity=0.6, position=(0.4999999…"
      ]
     },
     "metadata": {},
     "output_type": "display_data"
    },
    {
     "name": "stdout",
     "output_type": "stream",
     "text": [
      "[2, 17, 15] torch.Size([1, 20, 20, 20])\n",
      "[10, 15, 16] torch.Size([1, 20, 20, 20])\n",
      "[17, 17, 17] torch.Size([1, 20, 20, 20])\n",
      "[6, 1, 9] torch.Size([1, 20, 20, 20])\n",
      "[16, 1, 9] torch.Size([1, 20, 20, 20])\n"
     ]
    }
   ],
   "source": [
    "p = visualize(sparse_voxels_1)\n",
    "mask = torch.zeros_like(sparse_voxels_1)\n",
    "v1_matched_points = [\n",
    "    [2, 17, 15], # left arm\n",
    "    [10, 15, 16], # nose\n",
    "    [17, 17, 17], # right arm\n",
    "    [6, 1, 9], # left toe\n",
    "    [16, 1, 9] # right toe\n",
    "]\n",
    "for point in v1_matched_points:\n",
    "    print(point, mask.shape)\n",
    "    mask[0][point[0], point[1], point[2]] = 1\n",
    "visualize(mask, p, \"blue\", point_size=0.1)\n",
    "draw_box(p)"
   ]
  },
  {
   "cell_type": "code",
   "execution_count": 6,
   "id": "abroad-quilt",
   "metadata": {},
   "outputs": [
    {
     "data": {
      "application/vnd.jupyter.widget-view+json": {
       "model_id": "cb52e0b675eb407da1b9c458bd6ed874",
       "version_major": 2,
       "version_minor": 0
      },
      "text/plain": [
       "Renderer(camera=PerspectiveCamera(children=(DirectionalLight(color='white', intensity=0.6, position=(0.4999999…"
      ]
     },
     "metadata": {},
     "output_type": "display_data"
    }
   ],
   "source": [
    "p = mp.plot(v_2.cpu().numpy(), f_2.cpu().numpy())\n",
    "draw_box(p)"
   ]
  },
  {
   "cell_type": "code",
   "execution_count": 8,
   "id": "spanish-champagne",
   "metadata": {},
   "outputs": [
    {
     "data": {
      "application/vnd.jupyter.widget-view+json": {
       "model_id": "128b330b477f4d6a96746ea9db8f169b",
       "version_major": 2,
       "version_minor": 0
      },
      "text/plain": [
       "Renderer(camera=PerspectiveCamera(children=(DirectionalLight(color='white', intensity=0.6, position=(0.4999999…"
      ]
     },
     "metadata": {},
     "output_type": "display_data"
    },
    {
     "name": "stdout",
     "output_type": "stream",
     "text": [
      "[4, 7, 10] torch.Size([1, 20, 20, 20])\n",
      "[10, 9, 14] torch.Size([1, 20, 20, 20])\n",
      "[16, 7, 10] torch.Size([1, 20, 20, 20])\n",
      "[8, 1, 9] torch.Size([1, 20, 20, 20])\n",
      "[12, 1, 9] torch.Size([1, 20, 20, 20])\n"
     ]
    }
   ],
   "source": [
    "p = visualize(sparse_voxels_2)\n",
    "\n",
    "mask = torch.zeros_like(sparse_voxels_2)\n",
    "v2_matched_points = [\n",
    "    [4, 7, 10], # left arm\n",
    "    [10, 9, 14], # nose\n",
    "    [16, 7, 10], # right arm\n",
    "    [8, 1, 9], # left leg\n",
    "    [12, 1, 9] # right left\n",
    "]\n",
    "for point in v2_matched_points:\n",
    "    print(point, mask.shape)\n",
    "    mask[0][point[0], point[1], point[2]] = 1\n",
    "visualize(mask, p, \"blue\", point_size=0.1)\n",
    "draw_box(p)"
   ]
  },
  {
   "cell_type": "code",
   "execution_count": 12,
   "id": "dressed-increase",
   "metadata": {},
   "outputs": [
    {
     "name": "stdout",
     "output_type": "stream",
     "text": [
      "tensor([[[ 2, 17, 15],\n",
      "         [ 4,  7, 10]],\n",
      "\n",
      "        [[10, 15, 16],\n",
      "         [10,  9, 14]],\n",
      "\n",
      "        [[17, 17, 17],\n",
      "         [16,  7, 10]],\n",
      "\n",
      "        [[ 6,  1,  9],\n",
      "         [ 8,  1,  9]],\n",
      "\n",
      "        [[16,  1,  9],\n",
      "         [12,  1,  9]]])\n"
     ]
    }
   ],
   "source": [
    "assert len(v1_matched_points) == len(v2_matched_points)\n",
    "matched_points = []\n",
    "for i in range(len(v1_matched_points)):\n",
    "    matched_points.append([\n",
    "        v1_matched_points[i], v2_matched_points[i]\n",
    "    ])\n",
    "matched_points = torch.tensor(matched_points)\n",
    "print(matched_points)"
   ]
  },
  {
   "cell_type": "code",
   "execution_count": 132,
   "id": "surprising-feedback",
   "metadata": {},
   "outputs": [
    {
     "name": "stdout",
     "output_type": "stream",
     "text": [
      "gamma 0.1 gamma_kp 0.5 alpha 0 R 11 matched_points tensor([[[ 2., 17., 15.],\n",
      "         [ 4.,  7., 10.]],\n",
      "\n",
      "        [[10., 15., 16.],\n",
      "         [10.,  9., 14.]],\n",
      "\n",
      "        [[17., 17., 17.],\n",
      "         [16.,  7., 10.]],\n",
      "\n",
      "        [[ 6.,  1.,  9.],\n",
      "         [ 8.,  1.,  9.]],\n",
      "\n",
      "        [[16.,  1.,  9.],\n",
      "         [12.,  1.,  9.]]], dtype=torch.float64)\n",
      "kernel tensor(0., dtype=torch.float64) tensor(1., dtype=torch.float64)\n",
      "0 tensor([1.6155e-05, 1.6155e-05, 1.6155e-05, 1.6155e-05], dtype=torch.float64) tensor([0.7737, 0.7737, 0.7737, 0.7737], dtype=torch.float64)\n",
      "1 tensor([2.0879e-05, 2.0879e-05, 2.0879e-05, 2.0879e-05], dtype=torch.float64) tensor([0.5987, 0.5987, 0.5987, 0.5987], dtype=torch.float64)\n",
      "2 tensor([2.6984e-05, 2.6984e-05, 2.6984e-05, 2.6984e-05], dtype=torch.float64) tensor([0.4632, 0.4632, 0.4632, 0.4632], dtype=torch.float64)\n",
      "3 tensor([3.4874e-05, 3.4874e-05, 3.4874e-05, 3.4874e-05], dtype=torch.float64) tensor([0.3584, 0.3584, 0.3584, 0.3584], dtype=torch.float64)\n",
      "4 tensor([4.5072e-05, 4.5072e-05, 4.5072e-05, 4.5072e-05], dtype=torch.float64) tensor([0.2773, 0.2773, 0.2773, 0.2773], dtype=torch.float64)\n",
      "5 tensor([5.8251e-05, 5.8251e-05, 5.8251e-05, 5.8251e-05], dtype=torch.float64) tensor([0.2146, 0.2146, 0.2146, 0.2146], dtype=torch.float64)\n",
      "6 tensor([7.5284e-05, 7.5284e-05, 7.5284e-05, 7.5284e-05], dtype=torch.float64) tensor([0.1660, 0.1660, 0.1660, 0.1660], dtype=torch.float64)\n",
      "7 tensor([9.7298e-05, 9.7298e-05, 9.7298e-05, 9.7298e-05], dtype=torch.float64) tensor([0.1285, 0.1285, 0.1285, 0.1285], dtype=torch.float64)\n",
      "8 tensor([0.0001, 0.0001, 0.0001, 0.0001], dtype=torch.float64) tensor([0.0994, 0.0994, 0.0994, 0.0994], dtype=torch.float64)\n",
      "9 tensor([0.0002, 0.0002, 0.0002, 0.0002], dtype=torch.float64) tensor([0.0769, 0.0769, 0.0769, 0.0769], dtype=torch.float64)\n",
      "10 tensor([0.0002, 0.0002, 0.0002, 0.0002], dtype=torch.float64) tensor([0.0595, 0.0595, 0.0595, 0.0595], dtype=torch.float64)\n",
      "11 tensor([0.0003, 0.0003, 0.0003, 0.0003], dtype=torch.float64) tensor([0.0460, 0.0460, 0.0460, 0.0460], dtype=torch.float64)\n",
      "12 tensor([0.0004, 0.0004, 0.0004, 0.0004], dtype=torch.float64) tensor([0.0356, 0.0356, 0.0356, 0.0356], dtype=torch.float64)\n",
      "13 tensor([0.0005, 0.0005, 0.0005, 0.0005], dtype=torch.float64) tensor([0.0276, 0.0276, 0.0276, 0.0276], dtype=torch.float64)\n",
      "14 tensor([0.0006, 0.0006, 0.0006, 0.0006], dtype=torch.float64) tensor([0.0213, 0.0213, 0.0213, 0.0213], dtype=torch.float64)\n",
      "15 tensor([0.0008, 0.0008, 0.0008, 0.0008], dtype=torch.float64) tensor([0.0165, 0.0165, 0.0165, 0.0165], dtype=torch.float64)\n",
      "16 tensor([0.0010, 0.0010, 0.0010, 0.0010], dtype=torch.float64) tensor([0.0128, 0.0128, 0.0128, 0.0128], dtype=torch.float64)\n",
      "17 tensor([0.0013, 0.0013, 0.0013, 0.0013], dtype=torch.float64) tensor([0.0099, 0.0099, 0.0099, 0.0099], dtype=torch.float64)\n",
      "18 tensor([0.0016, 0.0016, 0.0016, 0.0016], dtype=torch.float64) tensor([0.0076, 0.0076, 0.0076, 0.0076], dtype=torch.float64)\n",
      "19 tensor([0.0021, 0.0021, 0.0021, 0.0021], dtype=torch.float64) tensor([0.0059, 0.0059, 0.0059, 0.0059], dtype=torch.float64)\n"
     ]
    }
   ],
   "source": [
    "keypoint_args = { #0.5, 10\n",
    "    'alpha': 0,\n",
    "    'gamma_kp': 0.5,\n",
    "    'R': 11,\n",
    "    'matched_points': matched_points.double(),\n",
    "    'gamma': 0.1, # unused in actual class\n",
    "    'iters': 20 # unused in actual class\n",
    "}\n",
    "\n",
    "# keypoint_args = { #0.5, 10\n",
    "#     'alpha': 1,\n",
    "#     'gamma_kp': 0.5,\n",
    "#     'R': 10,\n",
    "#     'matched_points': matched_points.double(),\n",
    "#     'gamma': 0.1, # unused in actual class\n",
    "#     'iters': 20 # unused in actual class\n",
    "# }\n",
    "\n",
    "\n",
    "cwd = ConvolutionalWasserstein3D(1, SIZE, keypoint_args['gamma'], keypoint_args)\n",
    "inp_1 = sparse_voxels_1 + 1e-2\n",
    "inp_1 = inp_1/inp_1.sum()\n",
    "inp_2 = sparse_voxels_2 + 1e-2\n",
    "inp_2 = inp_2/inp_2.sum()\n",
    "out, w, v = cwd.sinkhorn(inp_1, inp_2, keypoint_args['iters'], return_plan=True)\n",
    "plan = lambda x: v*cwd.kernel.forward(w*x)\n",
    "planT = lambda x: w*cwd.kernel.forward_transpose(v*x)"
   ]
  },
  {
   "cell_type": "code",
   "execution_count": 133,
   "id": "valid-austria",
   "metadata": {},
   "outputs": [
    {
     "data": {
      "application/vnd.jupyter.widget-view+json": {
       "model_id": "9b7a131e4dc249bb9b43dbacdfc03b9a",
       "version_major": 2,
       "version_minor": 0
      },
      "text/plain": [
       "Renderer(camera=PerspectiveCamera(children=(DirectionalLight(color='white', intensity=0.6, position=(0.7999999…"
      ]
     },
     "metadata": {},
     "output_type": "display_data"
    },
    {
     "data": {
      "text/plain": [
       "<meshplot.Viewer.Viewer at 0x7f1037801310>"
      ]
     },
     "execution_count": 133,
     "metadata": {},
     "output_type": "execute_result"
    }
   ],
   "source": [
    "v1_coords = torch.stack(torch.where(sparse_voxels_1[0])).T\n",
    "mask = torch.zeros_like(w)\n",
    "# kp = torch.tensor([17, 17, 17])# , radius 8\n",
    "# kp = torch.tensor([6, 1, 9]) # radius 7\n",
    "kp =  torch.tensor([30, 17, 17])\n",
    "for i in range(v1_coords.shape[0]):\n",
    "    coords = v1_coords[i]\n",
    "    if torch.linalg.norm(coords.float() - kp.float()) >=18:\n",
    "        continue\n",
    "    mask[:, :, coords[0], coords[1], coords[2]] = 1\n",
    "visualize(mask[0])\n"
   ]
  },
  {
   "cell_type": "code",
   "execution_count": 134,
   "id": "opposed-assumption",
   "metadata": {
    "scrolled": false
   },
   "outputs": [
    {
     "data": {
      "application/vnd.jupyter.widget-view+json": {
       "model_id": "38389cbd9823431884b2942f6e57e00b",
       "version_major": 2,
       "version_minor": 0
      },
      "text/plain": [
       "Renderer(camera=PerspectiveCamera(children=(DirectionalLight(color='white', intensity=0.6, position=(0.4999999…"
      ]
     },
     "metadata": {},
     "output_type": "display_data"
    },
    {
     "data": {
      "text/plain": [
       "2"
      ]
     },
     "execution_count": 134,
     "metadata": {},
     "output_type": "execute_result"
    }
   ],
   "source": [
    "dist = planT(mask)[0, 0]\n",
    "dist = dist/dist.sum()\n",
    "thresh = 2e-3\n",
    "cube = torch.ones_like(dist)\n",
    "voxels = torch.stack(torch.where(cube)).T.numpy()\n",
    "# p = mp.plot(voxels/SIZE, c='black', shading={\"point_size\": 0.02})\n",
    "p = mp.plot(cpu_voxels_2, c='red', shading={\"point_size\": 0.04})\n",
    "# p.add_points(cpu_voxels_1, c='blue', shading={\"point_size\": 0.04})\n",
    "mask_voxels = torch.stack(torch.where(mask[0, 0])).T.numpy()\n",
    "p.add_points(mask_voxels/SIZE, c=\"gray\", shading={\"point_shape\": \"square\", \"point_size\": 0.04})\n",
    "p.add_points((voxels/SIZE)[dist.flatten() > thresh], c=dist.flatten()[dist.flatten() > thresh].numpy(), shading={\"point_shape\": \"circle\", \"point_size\": 0.07})\n",
    "\n"
   ]
  },
  {
   "cell_type": "code",
   "execution_count": 19,
   "id": "complicated-imaging",
   "metadata": {},
   "outputs": [
    {
     "name": "stdout",
     "output_type": "stream",
     "text": [
      "0\n"
     ]
    },
    {
     "ename": "RuntimeError",
     "evalue": "expected scalar type Double but found Float",
     "output_type": "error",
     "traceback": [
      "\u001b[0;31m---------------------------------------------------------------------------\u001b[0m",
      "\u001b[0;31mRuntimeError\u001b[0m                              Traceback (most recent call last)",
      "\u001b[0;32m<ipython-input-19-f8113b57682d>\u001b[0m in \u001b[0;36m<module>\u001b[0;34m\u001b[0m\n\u001b[1;32m      5\u001b[0m \u001b[0minp_2\u001b[0m \u001b[0;34m=\u001b[0m \u001b[0minp_2\u001b[0m\u001b[0;34m/\u001b[0m\u001b[0minp_2\u001b[0m\u001b[0;34m.\u001b[0m\u001b[0msum\u001b[0m\u001b[0;34m(\u001b[0m\u001b[0;34m)\u001b[0m\u001b[0;34m\u001b[0m\u001b[0;34m\u001b[0m\u001b[0m\n\u001b[1;32m      6\u001b[0m \u001b[0mentropic_args\u001b[0m \u001b[0;34m=\u001b[0m \u001b[0;34m{\u001b[0m\u001b[0;34m'factor'\u001b[0m\u001b[0;34m:\u001b[0m \u001b[0;36m0.3\u001b[0m\u001b[0;34m}\u001b[0m\u001b[0;34m\u001b[0m\u001b[0;34m\u001b[0m\u001b[0m\n\u001b[0;32m----> 7\u001b[0;31m \u001b[0mout\u001b[0m \u001b[0;34m=\u001b[0m \u001b[0mcwd\u001b[0m\u001b[0;34m.\u001b[0m\u001b[0mwass_barycenter\u001b[0m\u001b[0;34m(\u001b[0m\u001b[0mtorch\u001b[0m\u001b[0;34m.\u001b[0m\u001b[0mstack\u001b[0m\u001b[0;34m(\u001b[0m\u001b[0;34m[\u001b[0m\u001b[0minp_1\u001b[0m\u001b[0;34m,\u001b[0m \u001b[0minp_2\u001b[0m\u001b[0;34m]\u001b[0m\u001b[0;34m)\u001b[0m\u001b[0;34m,\u001b[0m  \u001b[0mtorch\u001b[0m\u001b[0;34m.\u001b[0m\u001b[0mtensor\u001b[0m\u001b[0;34m(\u001b[0m\u001b[0;34m[\u001b[0m\u001b[0;36m0.5\u001b[0m\u001b[0;34m,\u001b[0m \u001b[0;36m0.5\u001b[0m\u001b[0;34m]\u001b[0m\u001b[0;34m)\u001b[0m\u001b[0;34m,\u001b[0m \u001b[0;36m10\u001b[0m\u001b[0;34m,\u001b[0m \u001b[0mentropic_args\u001b[0m\u001b[0;34m=\u001b[0m\u001b[0;32mNone\u001b[0m\u001b[0;34m)\u001b[0m\u001b[0;34m\u001b[0m\u001b[0;34m\u001b[0m\u001b[0m\n\u001b[0m\u001b[1;32m      8\u001b[0m \u001b[0mout\u001b[0m\u001b[0;34m[\u001b[0m\u001b[0mout\u001b[0m \u001b[0;34m<\u001b[0m \u001b[0;36m1e-4\u001b[0m\u001b[0;34m]\u001b[0m \u001b[0;34m=\u001b[0m \u001b[0;36m0\u001b[0m\u001b[0;34m\u001b[0m\u001b[0;34m\u001b[0m\u001b[0m\n\u001b[1;32m      9\u001b[0m \u001b[0mp\u001b[0m \u001b[0;34m=\u001b[0m \u001b[0mvisualize\u001b[0m\u001b[0;34m(\u001b[0m\u001b[0mout\u001b[0m\u001b[0;34m)\u001b[0m\u001b[0;34m\u001b[0m\u001b[0;34m\u001b[0m\u001b[0m\n",
      "\u001b[0;32m<ipython-input-14-a89fb32a3ae6>\u001b[0m in \u001b[0;36mwass_barycenter\u001b[0;34m(self, mu_s, alphas, iters, entropic_args)\u001b[0m\n\u001b[1;32m    115\u001b[0m         \u001b[0;32mfor\u001b[0m \u001b[0mj\u001b[0m \u001b[0;32min\u001b[0m \u001b[0mrange\u001b[0m\u001b[0;34m(\u001b[0m\u001b[0miters\u001b[0m\u001b[0;34m)\u001b[0m\u001b[0;34m:\u001b[0m\u001b[0;34m\u001b[0m\u001b[0;34m\u001b[0m\u001b[0m\n\u001b[1;32m    116\u001b[0m             \u001b[0mprint\u001b[0m\u001b[0;34m(\u001b[0m\u001b[0mj\u001b[0m\u001b[0;34m)\u001b[0m\u001b[0;34m\u001b[0m\u001b[0;34m\u001b[0m\u001b[0m\n\u001b[0;32m--> 117\u001b[0;31m             \u001b[0mw\u001b[0m \u001b[0;34m=\u001b[0m \u001b[0mmu_s\u001b[0m \u001b[0;34m/\u001b[0m \u001b[0mself\u001b[0m\u001b[0;34m.\u001b[0m\u001b[0mkernel\u001b[0m\u001b[0;34m.\u001b[0m\u001b[0mforward_transpose\u001b[0m\u001b[0;34m(\u001b[0m\u001b[0mself\u001b[0m\u001b[0;34m.\u001b[0m\u001b[0ma\u001b[0m \u001b[0;34m*\u001b[0m \u001b[0mv\u001b[0m\u001b[0;34m)\u001b[0m \u001b[0;31m# changed to HT\u001b[0m\u001b[0;34m\u001b[0m\u001b[0;34m\u001b[0m\u001b[0m\n\u001b[0m\u001b[1;32m    118\u001b[0m             \u001b[0md\u001b[0m \u001b[0;34m=\u001b[0m \u001b[0mv\u001b[0m \u001b[0;34m*\u001b[0m \u001b[0mself\u001b[0m\u001b[0;34m.\u001b[0m\u001b[0mkernel\u001b[0m\u001b[0;34m.\u001b[0m\u001b[0mforward\u001b[0m\u001b[0;34m(\u001b[0m\u001b[0mself\u001b[0m\u001b[0;34m.\u001b[0m\u001b[0ma\u001b[0m \u001b[0;34m*\u001b[0m \u001b[0mw\u001b[0m\u001b[0;34m)\u001b[0m\u001b[0;34m\u001b[0m\u001b[0;34m\u001b[0m\u001b[0m\n\u001b[1;32m    119\u001b[0m             \u001b[0mmu\u001b[0m \u001b[0;34m=\u001b[0m \u001b[0mtorch\u001b[0m\u001b[0;34m.\u001b[0m\u001b[0mones\u001b[0m\u001b[0;34m(\u001b[0m\u001b[0mC\u001b[0m\u001b[0;34m,\u001b[0m \u001b[0mH\u001b[0m\u001b[0;34m,\u001b[0m \u001b[0mW\u001b[0m\u001b[0;34m,\u001b[0m \u001b[0mZ\u001b[0m\u001b[0;34m)\u001b[0m\u001b[0;34m\u001b[0m\u001b[0;34m\u001b[0m\u001b[0m\n",
      "\u001b[0;32m<ipython-input-13-04a9951ba706>\u001b[0m in \u001b[0;36mforward_transpose\u001b[0;34m(self, x)\u001b[0m\n\u001b[1;32m    103\u001b[0m \u001b[0;34m\u001b[0m\u001b[0m\n\u001b[1;32m    104\u001b[0m     \u001b[0;32mdef\u001b[0m \u001b[0mforward_transpose\u001b[0m\u001b[0;34m(\u001b[0m\u001b[0mself\u001b[0m\u001b[0;34m,\u001b[0m \u001b[0mx\u001b[0m\u001b[0;34m)\u001b[0m\u001b[0;34m:\u001b[0m\u001b[0;34m\u001b[0m\u001b[0;34m\u001b[0m\u001b[0m\n\u001b[0;32m--> 105\u001b[0;31m         \u001b[0;32mreturn\u001b[0m \u001b[0mself\u001b[0m\u001b[0;34m.\u001b[0m\u001b[0mforward\u001b[0m\u001b[0;34m(\u001b[0m\u001b[0mx\u001b[0m\u001b[0;34m)\u001b[0m\u001b[0;34m\u001b[0m\u001b[0;34m\u001b[0m\u001b[0m\n\u001b[0m\u001b[1;32m    106\u001b[0m \u001b[0;34m\u001b[0m\u001b[0m\n\u001b[1;32m    107\u001b[0m \u001b[0;34m\u001b[0m\u001b[0m\n",
      "\u001b[0;32m<ipython-input-13-04a9951ba706>\u001b[0m in \u001b[0;36mforward\u001b[0;34m(self, x)\u001b[0m\n\u001b[1;32m     91\u001b[0m     \u001b[0;32mdef\u001b[0m \u001b[0mforward\u001b[0m\u001b[0;34m(\u001b[0m\u001b[0mself\u001b[0m\u001b[0;34m,\u001b[0m \u001b[0mx\u001b[0m\u001b[0;34m)\u001b[0m\u001b[0;34m:\u001b[0m\u001b[0;34m\u001b[0m\u001b[0;34m\u001b[0m\u001b[0m\n\u001b[1;32m     92\u001b[0m         \u001b[0;31m# x is N, 1, H, W, Z\u001b[0m\u001b[0;34m\u001b[0m\u001b[0;34m\u001b[0m\u001b[0;34m\u001b[0m\u001b[0m\n\u001b[0;32m---> 93\u001b[0;31m         \u001b[0mx\u001b[0m \u001b[0;34m=\u001b[0m \u001b[0mself\u001b[0m\u001b[0;34m.\u001b[0m\u001b[0mconv1d_blur\u001b[0m\u001b[0;34m(\u001b[0m\u001b[0mx\u001b[0m\u001b[0;34m)\u001b[0m \u001b[0;31m# convolve over Z\u001b[0m\u001b[0;34m\u001b[0m\u001b[0;34m\u001b[0m\u001b[0m\n\u001b[0m\u001b[1;32m     94\u001b[0m \u001b[0;34m\u001b[0m\u001b[0m\n\u001b[1;32m     95\u001b[0m         \u001b[0mx\u001b[0m \u001b[0;34m=\u001b[0m \u001b[0mx\u001b[0m\u001b[0;34m.\u001b[0m\u001b[0mpermute\u001b[0m\u001b[0;34m(\u001b[0m\u001b[0;36m0\u001b[0m\u001b[0;34m,\u001b[0m \u001b[0;36m1\u001b[0m\u001b[0;34m,\u001b[0m \u001b[0;36m2\u001b[0m\u001b[0;34m,\u001b[0m \u001b[0;36m4\u001b[0m\u001b[0;34m,\u001b[0m \u001b[0;36m3\u001b[0m\u001b[0;34m)\u001b[0m\u001b[0;34m\u001b[0m\u001b[0;34m\u001b[0m\u001b[0m\n",
      "\u001b[0;32m<ipython-input-13-04a9951ba706>\u001b[0m in \u001b[0;36mconv1d_blur\u001b[0;34m(self, x)\u001b[0m\n\u001b[1;32m     85\u001b[0m         \u001b[0mpermuted_shape\u001b[0m \u001b[0;34m=\u001b[0m \u001b[0mconv_inp\u001b[0m\u001b[0;34m.\u001b[0m\u001b[0mshape\u001b[0m\u001b[0;34m\u001b[0m\u001b[0;34m\u001b[0m\u001b[0m\n\u001b[1;32m     86\u001b[0m         \u001b[0mconv_inp\u001b[0m \u001b[0;34m=\u001b[0m \u001b[0mconv_inp\u001b[0m\u001b[0;34m.\u001b[0m\u001b[0mreshape\u001b[0m\u001b[0;34m(\u001b[0m\u001b[0morig_shape\u001b[0m\u001b[0;34m[\u001b[0m\u001b[0;36m4\u001b[0m\u001b[0;34m]\u001b[0m\u001b[0;34m,\u001b[0m \u001b[0;34m-\u001b[0m\u001b[0;36m1\u001b[0m\u001b[0;34m)\u001b[0m\u001b[0;34m.\u001b[0m\u001b[0mpermute\u001b[0m\u001b[0;34m(\u001b[0m\u001b[0;36m1\u001b[0m\u001b[0;34m,\u001b[0m\u001b[0;36m0\u001b[0m\u001b[0;34m)\u001b[0m\u001b[0;34m.\u001b[0m\u001b[0munsqueeze\u001b[0m\u001b[0;34m(\u001b[0m\u001b[0;36m1\u001b[0m\u001b[0;34m)\u001b[0m\u001b[0;34m\u001b[0m\u001b[0;34m\u001b[0m\u001b[0m\n\u001b[0;32m---> 87\u001b[0;31m         \u001b[0mout\u001b[0m \u001b[0;34m=\u001b[0m \u001b[0mtorch\u001b[0m\u001b[0;34m.\u001b[0m\u001b[0mnn\u001b[0m\u001b[0;34m.\u001b[0m\u001b[0mfunctional\u001b[0m\u001b[0;34m.\u001b[0m\u001b[0mconv1d\u001b[0m\u001b[0;34m(\u001b[0m\u001b[0mconv_inp\u001b[0m\u001b[0;34m,\u001b[0m \u001b[0mk\u001b[0m\u001b[0;34m,\u001b[0m \u001b[0mpadding\u001b[0m\u001b[0;34m=\u001b[0m\u001b[0;34m(\u001b[0m\u001b[0mkernel_size\u001b[0m \u001b[0;34m-\u001b[0m \u001b[0;36m1\u001b[0m\u001b[0;34m)\u001b[0m \u001b[0;34m//\u001b[0m \u001b[0;36m2\u001b[0m\u001b[0;34m)\u001b[0m\u001b[0;34m\u001b[0m\u001b[0;34m\u001b[0m\u001b[0m\n\u001b[0m\u001b[1;32m     88\u001b[0m         \u001b[0mout\u001b[0m \u001b[0;34m=\u001b[0m \u001b[0mout\u001b[0m\u001b[0;34m.\u001b[0m\u001b[0msqueeze\u001b[0m\u001b[0;34m(\u001b[0m\u001b[0;36m1\u001b[0m\u001b[0;34m)\u001b[0m\u001b[0;34m.\u001b[0m\u001b[0mpermute\u001b[0m\u001b[0;34m(\u001b[0m\u001b[0;36m1\u001b[0m\u001b[0;34m,\u001b[0m\u001b[0;36m0\u001b[0m\u001b[0;34m)\u001b[0m\u001b[0;34m.\u001b[0m\u001b[0mreshape\u001b[0m\u001b[0;34m(\u001b[0m\u001b[0mpermuted_shape\u001b[0m\u001b[0;34m)\u001b[0m\u001b[0;34m.\u001b[0m\u001b[0mpermute\u001b[0m\u001b[0;34m(\u001b[0m\u001b[0;36m1\u001b[0m\u001b[0;34m,\u001b[0m \u001b[0;36m2\u001b[0m\u001b[0;34m,\u001b[0m \u001b[0;36m3\u001b[0m\u001b[0;34m,\u001b[0m \u001b[0;36m4\u001b[0m\u001b[0;34m,\u001b[0m \u001b[0;36m0\u001b[0m\u001b[0;34m)\u001b[0m\u001b[0;34m\u001b[0m\u001b[0;34m\u001b[0m\u001b[0m\n\u001b[1;32m     89\u001b[0m         \u001b[0;32mreturn\u001b[0m \u001b[0mout\u001b[0m\u001b[0;34m\u001b[0m\u001b[0;34m\u001b[0m\u001b[0m\n",
      "\u001b[0;31mRuntimeError\u001b[0m: expected scalar type Double but found Float"
     ]
    }
   ],
   "source": [
    "cwd = ConvolutionalWasserstein3D(1, SIZE, 0.1)\n",
    "inp_1 = sparse_voxels_1 + 1e-2\n",
    "inp_1 = inp_1/inp_1.sum()\n",
    "inp_2 = sparse_voxels_2 + 1e-2\n",
    "inp_2 = inp_2/inp_2.sum()\n",
    "entropic_args = {'factor': 0.3}\n",
    "out = cwd.wass_barycenter(torch.stack([inp_1, inp_2]).double(),  torch.tensor([0.5, 0.5]), 10, entropic_args=None)\n",
    "out[out < 1e-4] = 0\n",
    "p = visualize(out)\n",
    "draw_box(p)"
   ]
  },
  {
   "cell_type": "code",
   "execution_count": null,
   "id": "worth-class",
   "metadata": {},
   "outputs": [],
   "source": [
    "visualize(out)"
   ]
  },
  {
   "cell_type": "code",
   "execution_count": null,
   "id": "beautiful-utility",
   "metadata": {},
   "outputs": [],
   "source": [
    "%%javascript\n",
    "IPython.OutputArea.prototype._should_scroll = function(lines) {\n",
    "    return false;\n",
    "}"
   ]
  },
  {
   "cell_type": "code",
   "execution_count": null,
   "id": "chief-albuquerque",
   "metadata": {},
   "outputs": [],
   "source": []
  }
 ],
 "metadata": {
  "kernelspec": {
   "display_name": "Python 3",
   "language": "python",
   "name": "python3"
  },
  "language_info": {
   "codemirror_mode": {
    "name": "ipython",
    "version": 3
   },
   "file_extension": ".py",
   "mimetype": "text/x-python",
   "name": "python",
   "nbconvert_exporter": "python",
   "pygments_lexer": "ipython3",
   "version": "3.9.2"
  }
 },
 "nbformat": 4,
 "nbformat_minor": 5
}
